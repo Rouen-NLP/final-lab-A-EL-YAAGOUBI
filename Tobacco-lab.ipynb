{
 "cells": [
  {
   "cell_type": "markdown",
   "metadata": {},
   "source": [
    "# Classification des documents du procès des groupes américains du tabac\n",
    "\n",
    "## Contexte\n",
    "\n",
    "Le gouvernement américain a attaqué en justice cinq grands groupes américains du tabac pour avoir amassé d'importants bénéfices en mentant sur les dangers de la cigarette. Le cigarettiers  se sont entendus dès 1953, pour \"mener ensemble une vaste campagne de relations publiques afin de contrer les preuves de plus en plus manifestes d'un lien entre la consommation de tabac et des maladies graves\".\n",
    "\n",
    "Dans ce procès 14 millions de documents ont été collectés et numérisés. Afin de faciliter l'exploitation de ces documents par les avocats, vous êtes en charge de mettre en place une classification automatique des types de documents."
   ]
  },
  {
   "cell_type": "markdown",
   "metadata": {},
   "source": [
    "## Import et chargement des données"
   ]
  },
  {
   "cell_type": "code",
   "execution_count": 151,
   "metadata": {},
   "outputs": [],
   "source": [
    "\n",
    "import matplotlib.pyplot as plt\n",
    "import pandas as pd\n",
    "import numpy as np\n",
    "\n",
    "from sklearn.feature_extraction.text import TfidfTransformer\n",
    "from sklearn.feature_extraction.text import CountVectorizer\n",
    "from sklearn.naive_bayes import MultinomialNB\n",
    "from sklearn.neural_network import MLPClassifier\n",
    "\n",
    "from sklearn.model_selection import train_test_split\n",
    "from sklearn.metrics import classification_report\n",
    "from sklearn.metrics import confusion_matrix\n",
    "\n",
    "import warnings\n",
    "warnings.filterwarnings(\"ignore\")\n",
    "\n",
    "np.random.seed(0)"
   ]
  },
  {
   "cell_type": "code",
   "execution_count": 2,
   "metadata": {},
   "outputs": [
    {
     "data": {
      "text/html": [
       "<div>\n",
       "<style scoped>\n",
       "    .dataframe tbody tr th:only-of-type {\n",
       "        vertical-align: middle;\n",
       "    }\n",
       "\n",
       "    .dataframe tbody tr th {\n",
       "        vertical-align: top;\n",
       "    }\n",
       "\n",
       "    .dataframe thead th {\n",
       "        text-align: right;\n",
       "    }\n",
       "</style>\n",
       "<table border=\"1\" class=\"dataframe\">\n",
       "  <thead>\n",
       "    <tr style=\"text-align: right;\">\n",
       "      <th></th>\n",
       "      <th>img_path</th>\n",
       "      <th>label</th>\n",
       "    </tr>\n",
       "  </thead>\n",
       "  <tbody>\n",
       "    <tr>\n",
       "      <th>0</th>\n",
       "      <td>Advertisement/0000136188.jpg</td>\n",
       "      <td>Advertisement</td>\n",
       "    </tr>\n",
       "    <tr>\n",
       "      <th>1</th>\n",
       "      <td>Advertisement/0000435350.jpg</td>\n",
       "      <td>Advertisement</td>\n",
       "    </tr>\n",
       "    <tr>\n",
       "      <th>2</th>\n",
       "      <td>Advertisement/0000556056.jpg</td>\n",
       "      <td>Advertisement</td>\n",
       "    </tr>\n",
       "    <tr>\n",
       "      <th>3</th>\n",
       "      <td>Advertisement/0030048095.jpg</td>\n",
       "      <td>Advertisement</td>\n",
       "    </tr>\n",
       "    <tr>\n",
       "      <th>4</th>\n",
       "      <td>Advertisement/0030048989.jpg</td>\n",
       "      <td>Advertisement</td>\n",
       "    </tr>\n",
       "  </tbody>\n",
       "</table>\n",
       "</div>"
      ],
      "text/plain": [
       "                       img_path          label\n",
       "0  Advertisement/0000136188.jpg  Advertisement\n",
       "1  Advertisement/0000435350.jpg  Advertisement\n",
       "2  Advertisement/0000556056.jpg  Advertisement\n",
       "3  Advertisement/0030048095.jpg  Advertisement\n",
       "4  Advertisement/0030048989.jpg  Advertisement"
      ]
     },
     "execution_count": 2,
     "metadata": {},
     "output_type": "execute_result"
    }
   ],
   "source": [
    "paths = pd.read_csv('./tobacco_data/Tobacco3482.csv', sep = \",\")\n",
    "paths.head()"
   ]
  },
  {
   "cell_type": "markdown",
   "metadata": {},
   "source": [
    "## Analyse des données"
   ]
  },
  {
   "cell_type": "code",
   "execution_count": 50,
   "metadata": {},
   "outputs": [
    {
     "data": {
      "text/plain": [
       "{'Advertisement': 230,\n",
       " 'Email': 599,\n",
       " 'Form': 431,\n",
       " 'Letter': 567,\n",
       " 'Memo': 620,\n",
       " 'News': 188,\n",
       " 'Note': 201,\n",
       " 'Report': 265,\n",
       " 'Resume': 120,\n",
       " 'Scientific': 261}"
      ]
     },
     "execution_count": 50,
     "metadata": {},
     "output_type": "execute_result"
    }
   ],
   "source": [
    "labels = {}\n",
    "X = []\n",
    "Y = []\n",
    "for index, row in paths.iterrows():\n",
    "    path, label = row[0].replace('jpg', 'txt'), row[1]\n",
    "    if label in labels:\n",
    "        labels[label] += 1\n",
    "    else:\n",
    "        labels[label] = 1\n",
    "    with open('./tobacco_data/{}'.format(path), 'r') as f:\n",
    "        text = f.read().replace('\\n', ' ')\n",
    "    X.append(text)\n",
    "    Y.append(label)\n",
    "labels"
   ]
  },
  {
   "cell_type": "code",
   "execution_count": 51,
   "metadata": {},
   "outputs": [
    {
     "data": {
      "image/png": "[encoded data removed]",
      "text/plain": [
       "<Figure size 1008x432 with 1 Axes>"
      ]
     },
     "metadata": {},
     "output_type": "display_data"
    }
   ],
   "source": [
    "s = pd.Series(\n",
    "    list(labels.values()),\n",
    "    index = list(labels.keys())\n",
    ")\n",
    "\n",
    "plt.figure(figsize=(14,6))\n",
    "\n",
    "plt.title('Histogramme des differentes classes', fontsize=20)\n",
    "plt.ylabel('Frequence', fontsize=15)\n",
    "\n",
    "my_colors = ['r', 'g', 'b', 'k', 'y', 'm', 'c']\n",
    "\n",
    "s.plot(\n",
    "    kind='bar', \n",
    "    color=my_colors\n",
    ")\n",
    "plt.show()"
   ]
  },
  {
   "cell_type": "markdown",
   "metadata": {},
   "source": [
    "- On peut remarquer que nos données sont divisées en dix classes\n",
    "- Les classes Email, Form, Letter et Memo sont plus représentées que les autres classes"
   ]
  },
  {
   "cell_type": "markdown",
   "metadata": {},
   "source": [
    "## Classification"
   ]
  },
  {
   "cell_type": "markdown",
   "metadata": {},
   "source": [
    "### Split des données"
   ]
  },
  {
   "cell_type": "code",
   "execution_count": 69,
   "metadata": {},
   "outputs": [],
   "source": [
    "x_train, x_test, y_train, y_test = train_test_split(X, Y, test_size = 0.2)"
   ]
  },
  {
   "cell_type": "markdown",
   "metadata": {},
   "source": [
    "### BOW puis TF-IDF"
   ]
  },
  {
   "cell_type": "code",
   "execution_count": 80,
   "metadata": {},
   "outputs": [
    {
     "name": "stdout",
     "output_type": "stream",
     "text": [
      "Entrainement :  (2785, 2000)\n",
      "Validation   :  (697, 2000)\n"
     ]
    }
   ],
   "source": [
    "vectorizer = CountVectorizer(max_features=2000, max_df=0.3)\n",
    "vectorizer.fit(x_train)\n",
    "\n",
    "x_train_counts = vectorizer.transform(x_train)\n",
    "x_test_counts  = vectorizer.transform(x_test)\n",
    "\n",
    "tf_transformer = TfidfTransformer().fit(x_train_counts)\n",
    "x_train_tf     = tf_transformer.transform(x_train_counts)\n",
    "x_test_tf      = tf_transformer.transform(x_test_counts)\n",
    "\n",
    "print('Entrainement : ', x_train_counts.shape)\n",
    "print('Validation   : ', x_test_counts.shape)\n"
   ]
  },
  {
   "cell_type": "markdown",
   "metadata": {},
   "source": [
    "### MultinomialNB"
   ]
  },
  {
   "cell_type": "code",
   "execution_count": 143,
   "metadata": {},
   "outputs": [],
   "source": [
    "model = MultinomialNB(alpha=0.1)\n",
    "model.fit(x_train_tf, y_train)\n",
    "\n",
    "predictions = model.predict(x_test_tf)\n",
    "\n",
    "report = classification_report(y_test, predictions, target_names=np.unique(Y))\n",
    "cfsM   = confusion_matrix(y_test, predictions)"
   ]
  },
  {
   "cell_type": "markdown",
   "metadata": {},
   "source": [
    "### Rapport pour le model MultinomialNB"
   ]
  },
  {
   "cell_type": "code",
   "execution_count": 144,
   "metadata": {},
   "outputs": [
    {
     "name": "stdout",
     "output_type": "stream",
     "text": [
      "               precision    recall  f1-score   support\n",
      "\n",
      "Advertisement       0.82      0.63      0.72        52\n",
      "        Email       0.95      0.95      0.95       110\n",
      "         Form       0.68      0.73      0.71        94\n",
      "       Letter       0.67      0.74      0.70       103\n",
      "         Memo       0.54      0.71      0.61       115\n",
      "         News       0.71      0.78      0.74        45\n",
      "         Note       0.52      0.33      0.41        45\n",
      "       Report       0.75      0.45      0.56        47\n",
      "       Resume       1.00      0.97      0.98        31\n",
      "   Scientific       0.67      0.53      0.59        55\n",
      "\n",
      "  avg / total       0.72      0.71      0.71       697\n",
      "\n"
     ]
    }
   ],
   "source": [
    "print(report)"
   ]
  },
  {
   "cell_type": "markdown",
   "metadata": {},
   "source": [
    "### Matrice de confusion"
   ]
  },
  {
   "cell_type": "code",
   "execution_count": 156,
   "metadata": {},
   "outputs": [
    {
     "data": {
      "image/png": "[encoded data removed]",
      "text/plain": [
       "<Figure size 1152x576 with 4 Axes>"
      ]
     },
     "metadata": {},
     "output_type": "display_data"
    }
   ],
   "source": [
    "plt.figure(figsize=(16,8))\n",
    "\n",
    "plt.subplot(121)\n",
    "plt.imshow(cfsM)\n",
    "plt.title('Matrice de confusion', fontsize=20)\n",
    "plt.colorbar(shrink=0.75)\n",
    "plt.yticks(np.arange(len(labels.keys())), labels.keys(), fontsize=15)\n",
    "\n",
    "\n",
    "plt.subplot(122)\n",
    "plt.imshow(np.log(cfsM))\n",
    "plt.title('Matrice de confusion normalisée', fontsize=20)\n",
    "plt.colorbar(shrink=0.75)\n",
    "plt.yticks(np.arange(len(labels.keys())), labels.keys(), fontsize=15)\n",
    "\n",
    "plt.show()"
   ]
  },
  {
   "cell_type": "markdown",
   "metadata": {},
   "source": [
    "### Multi Layer Perceptron"
   ]
  },
  {
   "cell_type": "code",
   "execution_count": 148,
   "metadata": {},
   "outputs": [],
   "source": [
    "model = MLPClassifier()\n",
    "model.fit(x_train_tf, y_train)\n",
    "\n",
    "predictions  = model.predict(x_test_tf)\n",
    "\n",
    "report = classification_report(y_test, predictions)\n",
    "cfsM = confusion_matrix(y_train, model.predict(x_train_counts))"
   ]
  },
  {
   "cell_type": "markdown",
   "metadata": {},
   "source": [
    "### Rapport pour le model MLP"
   ]
  },
  {
   "cell_type": "code",
   "execution_count": 149,
   "metadata": {},
   "outputs": [
    {
     "name": "stdout",
     "output_type": "stream",
     "text": [
      "               precision    recall  f1-score   support\n",
      "\n",
      "Advertisement       0.77      0.65      0.71        52\n",
      "        Email       0.95      0.95      0.95       110\n",
      "         Form       0.79      0.80      0.79        94\n",
      "       Letter       0.72      0.80      0.76       103\n",
      "         Memo       0.78      0.81      0.79       115\n",
      "         News       0.77      0.82      0.80        45\n",
      "         Note       0.64      0.60      0.62        45\n",
      "       Report       0.50      0.49      0.49        47\n",
      "       Resume       1.00      0.97      0.98        31\n",
      "   Scientific       0.67      0.60      0.63        55\n",
      "\n",
      "  avg / total       0.77      0.77      0.77       697\n",
      "\n"
     ]
    }
   ],
   "source": [
    "print(report)"
   ]
  },
  {
   "cell_type": "markdown",
   "metadata": {},
   "source": [
    "### Matrice de confusion"
   ]
  },
  {
   "cell_type": "code",
   "execution_count": 157,
   "metadata": {},
   "outputs": [
    {
     "data": {
      "image/png": "[encoded data removed]",
      "text/plain": [
       "<Figure size 1152x576 with 4 Axes>"
      ]
     },
     "metadata": {},
     "output_type": "display_data"
    }
   ],
   "source": [
    "plt.figure(figsize=(16,8))\n",
    "\n",
    "plt.subplot(121)\n",
    "plt.imshow(cfsM)\n",
    "plt.title('Matrice de confusion : Classification MLP', fontsize=20)\n",
    "plt.colorbar(shrink=0.75)\n",
    "plt.yticks(np.arange(len(labels.keys())), labels.keys(), fontsize=15)\n",
    "\n",
    "\n",
    "plt.subplot(122)\n",
    "plt.imshow(np.log(cfsM))\n",
    "plt.title('Matrice de confusion normalisée', fontsize=20)\n",
    "plt.colorbar(shrink=0.75)\n",
    "plt.yticks(np.arange(len(labels.keys())), labels.keys(), fontsize=15)\n",
    "\n",
    "plt.show()"
   ]
  },
  {
   "cell_type": "code",
   "execution_count": null,
   "metadata": {},
   "outputs": [],
   "source": []
  }
 ],
 "metadata": {
  "kernelspec": {
   "display_name": "Python 3",
   "language": "python",
   "name": "python3"
  },
  "language_info": {
   "codemirror_mode": {
    "name": "ipython",
    "version": 3
   },
   "file_extension": ".py",
   "mimetype": "text/x-python",
   "name": "python",
   "nbconvert_exporter": "python",
   "pygments_lexer": "ipython3",
   "version": "3.6.5"
  }
 },
 "nbformat": 4,
 "nbformat_minor": 2
}
